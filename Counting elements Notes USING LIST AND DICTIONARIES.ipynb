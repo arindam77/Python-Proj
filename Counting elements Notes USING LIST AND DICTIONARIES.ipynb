{
 "cells": [
  {
   "cell_type": "code",
   "execution_count": 4,
   "metadata": {},
   "outputs": [
    {
     "name": "stdout",
     "output_type": "stream",
     "text": [
      "5\n"
     ]
    }
   ],
   "source": [
    "# Python code to count the number of occurrences\n",
    "def countX(lst, x):\n",
    "    count = 0\n",
    "    for ele in lst:\n",
    "        if (ele == x):\n",
    "            count = count + 1\n",
    "    return count\n",
    "\n",
    "# Driver Code\n",
    "lst = [8, 6, 8, 10, 8, 20, 10, 8, 8]\n",
    "x = 8\n",
    "print(countX(lst, x))"
   ]
  },
  {
   "cell_type": "code",
   "execution_count": 36,
   "metadata": {},
   "outputs": [
    {
     "data": {
      "text/plain": [
       "Counter({1: 3, 2: 2, 3: 2, 4: 1, 7: 1, 42: 2, 46: 1, 88: 1})"
      ]
     },
     "execution_count": 36,
     "metadata": {},
     "output_type": "execute_result"
    }
   ],
   "source": [
    "#Using collections to count occurences\n",
    "import collections\n",
    "lis = [2,3,4,1,2,3,46,7,88,42,42,1,1,]\n",
    "collections.Counter(lis)"
   ]
  },
  {
   "cell_type": "code",
   "execution_count": null,
   "metadata": {
    "collapsed": true
   },
   "outputs": [],
   "source": [
    "Count occurences:\n",
    "\n",
    "wordlist = ['cats', 'dogs', 'cats', 'mammals', 'birds', 'cats', 'bats', 'spider', 'elephant', 'dogs']\n",
    "\n",
    "frequencies = {}\n",
    "\n",
    "\n",
    "for word in wordlist:\n",
    "    if word in frequencies:\n",
    "        frequencies[word] += 1\n",
    "    else:\n",
    "        frequencies[word] = 1\n",
    "     \n",
    "print(frequencies)    \n"
   ]
  },
  {
   "cell_type": "code",
   "execution_count": 37,
   "metadata": {},
   "outputs": [
    {
     "name": "stdout",
     "output_type": "stream",
     "text": [
      "defaultdict(<class 'list'>, {'US': ['San Francisco', 'Los Angeles'], 'UK': ['London', 'Manchester'], 'France': ['Paris'], 'Korea': ['Seoul']})\n"
     ]
    }
   ],
   "source": [
    "cities = {'San Francisco': 'US', 'London':'UK',\n",
    "        'Manchester':'UK', 'Paris':'France',\n",
    "        'Los Angeles':'US', 'Seoul':'Korea'}\n",
    "\n",
    "# => {'US':['San Francisco', 'Los Angeles'], 'UK':[,], ...}\n",
    "\n",
    "from collections import defaultdict\n",
    "# using collections.defaultdict()\n",
    "d1 = defaultdict(list) # initialize dict with list\n",
    "for k,v in cities.items():\n",
    "    d1[v].append(k)\n",
    "print (d1)\n"
   ]
  },
  {
   "cell_type": "code",
   "execution_count": null,
   "metadata": {
    "collapsed": true
   },
   "outputs": [],
   "source": []
  }
 ],
 "metadata": {
  "kernelspec": {
   "display_name": "Python 3",
   "language": "python",
   "name": "python3"
  },
  "language_info": {
   "codemirror_mode": {
    "name": "ipython",
    "version": 3
   },
   "file_extension": ".py",
   "mimetype": "text/x-python",
   "name": "python",
   "nbconvert_exporter": "python",
   "pygments_lexer": "ipython3",
   "version": "3.6.1"
  }
 },
 "nbformat": 4,
 "nbformat_minor": 2
}
