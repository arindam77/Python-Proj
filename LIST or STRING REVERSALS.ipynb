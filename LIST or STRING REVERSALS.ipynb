{
 "cells": [
  {
   "cell_type": "code",
   "execution_count": null,
   "metadata": {
    "collapsed": true
   },
   "outputs": [],
   "source": [
    "#list reversal\n",
    "METHOD 1:\n",
    "def reverse(alist):\n",
    "\n",
    "   #intializing pointers\n",
    "   left = 0\n",
    "   right = len(alist)-1\n",
    "\n",
    "   #condition for termination\n",
    "   while left<right:\n",
    "\n",
    "       #swapping\n",
    "       temp = alist[left]\n",
    "       alist[left] = alist[right]\n",
    "       alist[right] = temp\n",
    "\n",
    "       #updating pointers\n",
    "       left += 1\n",
    "       right -= 1\n",
    "\n",
    "   return alist\n",
    "\n",
    "print(reverse([1,2,3,4,5]))"
   ]
  },
  {
   "cell_type": "code",
   "execution_count": null,
   "metadata": {
    "collapsed": true
   },
   "outputs": [],
   "source": [
    "#list reversal\n",
    "METHOD 2:\n",
    "\n",
    "alist = [1,2,3,4,5,6,7]\n",
    "blist = list()\n",
    "for item in alist[::-1]:\n",
    "blist.append(item)\n",
    "print(blist) #prints [7,6,5,4,3,2,1]    "
   ]
  },
  {
   "cell_type": "code",
   "execution_count": null,
   "metadata": {
    "collapsed": true
   },
   "outputs": [],
   "source": [
    "#STRING REVERSAL:\n",
    "\n",
    "def reverse(string):\n",
    "    if len(string) == 0:\n",
    "        return string\n",
    "    else:\n",
    "        return reverse(string[1:]) + string[0]\n",
    "a = str(input(\"Enter the string to be reversed: \"))\n",
    "print(reverse(a)"
   ]
  },
  {
   "cell_type": "code",
   "execution_count": null,
   "metadata": {
    "collapsed": true
   },
   "outputs": [],
   "source": []
  }
 ],
 "metadata": {
  "kernelspec": {
   "display_name": "Python 3",
   "language": "python",
   "name": "python3"
  },
  "language_info": {
   "codemirror_mode": {
    "name": "ipython",
    "version": 3
   },
   "file_extension": ".py",
   "mimetype": "text/x-python",
   "name": "python",
   "nbconvert_exporter": "python",
   "pygments_lexer": "ipython3",
   "version": "3.6.1"
  }
 },
 "nbformat": 4,
 "nbformat_minor": 2
}
