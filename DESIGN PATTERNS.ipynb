{
 "cells": [
  {
   "cell_type": "code",
   "execution_count": 3,
   "metadata": {
    "collapsed": true
   },
   "outputs": [],
   "source": [
    ".#links:\n",
    "    \n",
    "#http://python-3-patterns-idioms-test.readthedocs.io/en/latest/Singleton.html\n",
    "    \n",
    "#https://www.toptal.com/python/python-design-patterns    "
   ]
  },
  {
   "cell_type": "code",
   "execution_count": 3,
   "metadata": {},
   "outputs": [
    {
     "name": "stdout",
     "output_type": "stream",
     "text": [
      "True\n",
      "True\n",
      "True\n",
      "True\n"
     ]
    }
   ],
   "source": [
    "#SINGLETON EXAMPLE:\n",
    "\n",
    "class Singleton():\n",
    "    def __new__(cls):\n",
    "        if not hasattr(cls, 'instance') or not cls.instance:\n",
    "            cls.instance = super().__new__(cls)\n",
    "            \n",
    "        return cls.instance\n",
    "\n",
    "\n",
    "obj1 = Singleton()\n",
    "obj2 = Singleton()\n",
    "obj3 = Singleton()\n",
    "\n",
    "print(obj1 is obj2)\n",
    "print(obj1 == obj2) \n",
    "print(type(obj1) == type(obj3)) \n",
    "print(id(obj1) == id(obj2)) "
   ]
  },
  {
   "cell_type": "code",
   "execution_count": 2,
   "metadata": {},
   "outputs": [
    {
     "name": "stdout",
     "output_type": "stream",
     "text": [
      "red RedCup\n",
      "blue BlueCup\n"
     ]
    }
   ],
   "source": [
    "#FACTORY PATTERN BEST EXAMPLE:\n",
    "    \n",
    "class Cup:\n",
    "    color = \"\"\n",
    "\n",
    "    # This is the factory method\n",
    "    @staticmethod\n",
    "    def getCup(cupColor):\n",
    "        if (cupColor == \"red\"):\n",
    "            return RedCup()\n",
    "        elif (cupColor == \"blue\"):\n",
    "            return BlueCup()\n",
    "        else:\n",
    "            return None\n",
    "\n",
    "class RedCup(Cup):\n",
    "    color = \"red\"\n",
    "\n",
    "class BlueCup(Cup):\n",
    "    color = \"blue\"\n",
    "\n",
    "# A little testing\n",
    "redCup = Cup.getCup(\"red\")\n",
    "print(redCup.color, redCup.__class__.__name__)\n",
    "\n",
    "blueCup = Cup.getCup(\"blue\")\n",
    "print (blueCup.color, blueCup.__class__.__name__)\n",
    "    "
   ]
  },
  {
   "cell_type": "code",
   "execution_count": null,
   "metadata": {
    "collapsed": true
   },
   "outputs": [],
   "source": [
    "#Singleton Again\n",
    "\n",
    "\"\"\"\n",
    "Ensure a class only has one instance, and provide a global point of\n",
    "access to it.\n",
    "\"\"\"\n",
    "\n",
    "\n",
    "class Singleton(type):\n",
    "    \"\"\"\n",
    "    Define an Instance operation that lets clients access its unique\n",
    "    instance.\n",
    "    \"\"\"\n",
    "\n",
    "    def __init__(cls, name, bases, attrs, **kwargs):\n",
    "        super().__init__(name, bases, attrs)\n",
    "        cls._instance = None\n",
    "\n",
    "    def __call__(cls, *args, **kwargs):\n",
    "        if cls._instance is None:\n",
    "            cls._instance = super().__call__(*args, **kwargs)\n",
    "        return cls._instance\n",
    "\n",
    "\n",
    "class MyClass(metaclass=Singleton):\n",
    "    \"\"\"\n",
    "    Example class.\n",
    "    \"\"\"\n",
    "\n",
    "    pass\n",
    "\n",
    "\n",
    "def main():\n",
    "    m1 = MyClass()\n",
    "    m2 = MyClass()\n",
    "    assert m1 is m2\n",
    "\n",
    "\n",
    "if __name__ == \"__main__\":\n",
    "    main "
   ]
  }
 ],
 "metadata": {
  "kernelspec": {
   "display_name": "Python 3",
   "language": "python",
   "name": "python3"
  },
  "language_info": {
   "codemirror_mode": {
    "name": "ipython",
    "version": 3
   },
   "file_extension": ".py",
   "mimetype": "text/x-python",
   "name": "python",
   "nbconvert_exporter": "python",
   "pygments_lexer": "ipython3",
   "version": "3.6.1"
  }
 },
 "nbformat": 4,
 "nbformat_minor": 2
}
