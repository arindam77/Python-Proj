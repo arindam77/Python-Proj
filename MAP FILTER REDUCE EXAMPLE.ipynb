{
 "cells": [
  {
   "cell_type": "code",
   "execution_count": 14,
   "metadata": {},
   "outputs": [
    {
     "name": "stdout",
     "output_type": "stream",
     "text": [
      "[1, 4, 9, 16]\n"
     ]
    }
   ],
   "source": [
    "#MAP EXAMPLE:\n",
    "    \n",
    "map_inputs = (1, 2, 3, 4)\n",
    "print(list(map(lambda n: n**2, map_inputs)))\n",
    "\n"
   ]
  },
  {
   "cell_type": "code",
   "execution_count": 9,
   "metadata": {},
   "outputs": [
    {
     "name": "stdout",
     "output_type": "stream",
     "text": [
      "[101, 102]\n"
     ]
    }
   ],
   "source": [
    " #FILTER:\n",
    "in_list = [98,99,100,101,102]\n",
    "out_list = filter(lambda x: x > 100, in_list)\n",
    "print(list(out_list))"
   ]
  },
  {
   "cell_type": "code",
   "execution_count": 11,
   "metadata": {},
   "outputs": [
    {
     "name": "stdout",
     "output_type": "stream",
     "text": [
      "120\n"
     ]
    }
   ],
   "source": [
    "#REDUCE\n",
    "from functools import reduce\n",
    "result = reduce((lambda x, y: x * y), [1, 2, 3, 4,5])\n",
    "print(result)\n"
   ]
  },
  {
   "cell_type": "code",
   "execution_count": 15,
   "metadata": {},
   "outputs": [
    {
     "name": "stdout",
     "output_type": "stream",
     "text": [
      "[1, 4, 9, 16, 49]\n"
     ]
    }
   ],
   "source": [
    "map_inputs = (1, 2, 3, 4, 7)\n",
    "print(list(map(lambda n: n**2, map_inputs )))"
   ]
  },
  {
   "cell_type": "code",
   "execution_count": 16,
   "metadata": {},
   "outputs": [
    {
     "name": "stdout",
     "output_type": "stream",
     "text": [
      "[4, 25, 4356, 529, 1, 1681, 64]\n"
     ]
    }
   ],
   "source": [
    "map_inputs = (2, 5, 66, 23, 1, 41, 8)\n",
    "print(list(map(lambda n: n **2, map_inputs)))"
   ]
  },
  {
   "cell_type": "code",
   "execution_count": 23,
   "metadata": {},
   "outputs": [
    {
     "name": "stdout",
     "output_type": "stream",
     "text": [
      "4979040\n"
     ]
    }
   ],
   "source": [
    "map_inputs = (2, 5, 66, 23, 1, 41, 8)\n",
    "print (reduce(lambda x, y: x*y, map_inputs))"
   ]
  },
  {
   "cell_type": "code",
   "execution_count": 24,
   "metadata": {},
   "outputs": [
    {
     "name": "stdout",
     "output_type": "stream",
     "text": [
      "[5, 8, 11]\n"
     ]
    }
   ],
   "source": [
    "map_inputs = (2, 4, 5, 8, 11, 3)\n",
    "print (list(filter(lambda n : n>4, map_inputs)))"
   ]
  },
  {
   "cell_type": "code",
   "execution_count": null,
   "metadata": {
    "collapsed": true
   },
   "outputs": [],
   "source": []
  }
 ],
 "metadata": {
  "kernelspec": {
   "display_name": "Python 3",
   "language": "python",
   "name": "python3"
  },
  "language_info": {
   "codemirror_mode": {
    "name": "ipython",
    "version": 3
   },
   "file_extension": ".py",
   "mimetype": "text/x-python",
   "name": "python",
   "nbconvert_exporter": "python",
   "pygments_lexer": "ipython3",
   "version": "3.6.1"
  }
 },
 "nbformat": 4,
 "nbformat_minor": 2
}
