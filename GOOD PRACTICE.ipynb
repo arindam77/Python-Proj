{
 "cells": [
  {
   "cell_type": "code",
   "execution_count": 3,
   "metadata": {},
   "outputs": [
    {
     "name": "stdout",
     "output_type": "stream",
     "text": [
      "defaultdict(<class 'int'>, {'I': 2, 'figured': 2, 'it': 2, 'out': 2, 'from': 1, 'black': 1, 'and': 2, 'white': 1, 'Seconds': 1, 'hours': 1, 'Maybe': 1, 'they': 1, 'had': 1, 'to': 1, 'take': 1, 'some': 1, 'time': 1})\n"
     ]
    }
   ],
   "source": [
    "from collections import defaultdict\n",
    "ss = \"\"\"I figured it out\n",
    "I figured it out from black and white\n",
    "Seconds and hours\n",
    "Maybe they had to take some time\"\"\"\n",
    "\n",
    "words = ss.split()\n",
    "d = defaultdict(int)\n",
    "for w in words:\n",
    "    d[w] += 1\n",
    "print (d)"
   ]
  },
  {
   "cell_type": "code",
   "execution_count": 10,
   "metadata": {},
   "outputs": [
    {
     "name": "stdout",
     "output_type": "stream",
     "text": [
      "{'cats': 3, 'dogs': 1, 'mammals': 1, 'birds': 1}\n"
     ]
    }
   ],
   "source": [
    "wordlist = ['cats', 'dogs', 'cats', 'mammals', 'birds', 'cats', 'bats', 'spider', 'elephant', 'dogs']\n",
    "\n",
    "frequencies = {}\n",
    "\n",
    "\n",
    "for word in wordlist:\n",
    "    if word in frequencies:\n",
    "        frequencies[word] += 1\n",
    "    else:\n",
    "        frequencies[word] = 1\n",
    "     \n",
    "print(frequencies)    \n",
    "\n"
   ]
  },
  {
   "cell_type": "code",
   "execution_count": 11,
   "metadata": {},
   "outputs": [
    {
     "name": "stdout",
     "output_type": "stream",
     "text": [
      "{33: 3, 32: 1, 12: 1, 11: 1, 3: 1, 1: 1}\n"
     ]
    }
   ],
   "source": [
    "wordlist = [33, 32, 12, 33, 33, 11, 3, 1]\n",
    "\n",
    "frequencies = {}\n",
    "\n",
    "\n",
    "for word in wordlist:\n",
    "    if word in frequencies:\n",
    "        frequencies[word] += 1\n",
    "    else:\n",
    "        frequencies[word] = 1\n",
    "     \n",
    "print(frequencies)"
   ]
  },
  {
   "cell_type": "code",
   "execution_count": 12,
   "metadata": {},
   "outputs": [
    {
     "name": "stdout",
     "output_type": "stream",
     "text": [
      "{'cats': 3, 'dogs': 2, 'mammals': 1, 'birds': 1, 'bats': 1, 'spider': 1, 'elephant': 1}\n"
     ]
    }
   ],
   "source": [
    "wordlist = ['cats', 'dogs', 'cats', 'mammals', 'birds', 'cats', 'bats', 'spider', 'elephant', 'dogs']\n",
    "\n",
    "freq = {}\n",
    "\n",
    "for i in wordlist:\n",
    "    if i in freq:\n",
    "        freq[i] +=1\n",
    "    else:\n",
    "        freq[i] = 1\n",
    "        \n",
    "    \n",
    "print(freq)    \n",
    "            \n",
    "            "
   ]
  },
  {
   "cell_type": "code",
   "execution_count": 14,
   "metadata": {},
   "outputs": [
    {
     "name": "stdout",
     "output_type": "stream",
     "text": [
      "{'cats': 3, 'dogs': 2, 'mammals': 1, 'birds': 1, 'bats': 1, 'spider': 1, 'elephant': 1}\n"
     ]
    }
   ],
   "source": [
    "wordlist = ['cats', 'dogs', 'cats', 'mammals', 'birds', 'cats', 'bats', 'spider', 'elephant', 'dogs']\n",
    "\n",
    "\n",
    "frequency = {}\n",
    "\n",
    "for word in wordlist:\n",
    "    if word in frequency:\n",
    "        frequency[word] +=1\n",
    "       \n",
    "    else:\n",
    "        frequency[word] = 1\n",
    "     \n",
    "  \n",
    "print(frequency)"
   ]
  },
  {
   "cell_type": "code",
   "execution_count": 17,
   "metadata": {},
   "outputs": [
    {
     "data": {
      "text/plain": [
       "2"
      ]
     },
     "execution_count": 17,
     "metadata": {},
     "output_type": "execute_result"
    }
   ],
   "source": [
    "def counters(lst,x):\n",
    "    count = 0\n",
    "    for i in lst:\n",
    "        if (i == x):\n",
    "            count +=1\n",
    "         \n",
    "      \n",
    "    return(count)\n",
    "\n",
    "lst = ['cats', 'dogs', 'cats', 'mammals', 'birds', 'cats', 'bats', 'spider', 'elephant', 'dogs']\n",
    "\n",
    "counters(lst, 'dogs')\n",
    "\n",
    "            "
   ]
  },
  {
   "cell_type": "code",
   "execution_count": 18,
   "metadata": {},
   "outputs": [
    {
     "name": "stdout",
     "output_type": "stream",
     "text": [
      "5\n"
     ]
    }
   ],
   "source": [
    "def countX(lst, x):\n",
    "    count = 0\n",
    "    for ele in lst:\n",
    "        if (ele == x):\n",
    "            count += 1\n",
    "    return count\n",
    "\n",
    "# Driver Code\n",
    "lst = [8, 6, 8, 10, 8, 20, 10, 8, 8]\n",
    "x = 8\n",
    "print(countX(lst, x))"
   ]
  },
  {
   "cell_type": "code",
   "execution_count": 19,
   "metadata": {},
   "outputs": [
    {
     "name": "stdout",
     "output_type": "stream",
     "text": [
      "{'cats': 3, 'dogs': 2, 'mammals': 1, 'birds': 1, 'bats': 1, 'spider': 1, 'elephant': 1}\n"
     ]
    }
   ],
   "source": [
    "wordlist = ['cats', 'dogs', 'cats', 'mammals', 'birds', 'cats', 'bats', 'spider', 'elephant', 'dogs']\n",
    "\n",
    "frequency = {}\n",
    "\n",
    "for word in wordlist:\n",
    "    if word in frequency:\n",
    "        frequency[word] +=1\n",
    "      \n",
    "    else:\n",
    "        frequency[word] =1\n",
    "        \n",
    " \n",
    "print(frequency)"
   ]
  },
  {
   "cell_type": "code",
   "execution_count": 20,
   "metadata": {},
   "outputs": [
    {
     "ename": "SyntaxError",
     "evalue": "Missing parentheses in call to 'print' (<ipython-input-20-fc65f7f08847>, line 5)",
     "output_type": "error",
     "traceback": [
      "\u001b[1;36m  File \u001b[1;32m\"<ipython-input-20-fc65f7f08847>\"\u001b[1;36m, line \u001b[1;32m5\u001b[0m\n\u001b[1;33m    print d\u001b[0m\n\u001b[1;37m          ^\u001b[0m\n\u001b[1;31mSyntaxError\u001b[0m\u001b[1;31m:\u001b[0m Missing parentheses in call to 'print'\n"
     ]
    }
   ],
   "source": [
    "from collections import defaultdict\n",
    "d = defaultdict(int)\n",
    "for w in words:\n",
    "    d[w] += 1\n",
    "print d"
   ]
  },
  {
   "cell_type": "code",
   "execution_count": 21,
   "metadata": {},
   "outputs": [
    {
     "name": "stdout",
     "output_type": "stream",
     "text": [
      "defaultdict(<class 'int'>, {'I': 2, 'figured': 2, 'it': 2, 'out': 2, 'from': 1, 'black': 1, 'and': 2, 'white': 1, 'Seconds': 1, 'hours': 1, 'Maybe': 1, 'they': 1, 'had': 1, 'to': 1, 'take': 1, 'some': 1, 'time': 1})\n"
     ]
    }
   ],
   "source": [
    "from collections import defaultdict\n",
    "ss = \"\"\"I figured it out\n",
    "I figured it out from black and white\n",
    "Seconds and hours\n",
    "Maybe they had to take some time\"\"\"\n",
    "\n",
    "words = ss.split()\n",
    "d = defaultdict(int)\n",
    "for w in words:\n",
    "    d[w] += 1\n",
    "print (d)"
   ]
  },
  {
   "cell_type": "code",
   "execution_count": 23,
   "metadata": {},
   "outputs": [
    {
     "ename": "AttributeError",
     "evalue": "'collections.defaultdict' object has no attribute 'append'",
     "output_type": "error",
     "traceback": [
      "\u001b[1;31m---------------------------------------------------------------------------\u001b[0m",
      "\u001b[1;31mAttributeError\u001b[0m                            Traceback (most recent call last)",
      "\u001b[1;32m<ipython-input-23-97509ef3cfac>\u001b[0m in \u001b[0;36m<module>\u001b[1;34m()\u001b[0m\n\u001b[0;32m      8\u001b[0m \u001b[0md\u001b[0m \u001b[1;33m=\u001b[0m \u001b[0mdefaultdict\u001b[0m\u001b[1;33m(\u001b[0m\u001b[0mlist\u001b[0m\u001b[1;33m)\u001b[0m\u001b[1;33m\u001b[0m\u001b[0m\n\u001b[0;32m      9\u001b[0m \u001b[1;32mfor\u001b[0m \u001b[0mw\u001b[0m \u001b[1;32min\u001b[0m \u001b[0mwords\u001b[0m\u001b[1;33m:\u001b[0m\u001b[1;33m\u001b[0m\u001b[0m\n\u001b[1;32m---> 10\u001b[1;33m     \u001b[0md\u001b[0m\u001b[1;33m.\u001b[0m\u001b[0mappend\u001b[0m\u001b[1;33m(\u001b[0m\u001b[0mw\u001b[0m\u001b[1;33m)\u001b[0m\u001b[1;33m\u001b[0m\u001b[0m\n\u001b[0m\u001b[0;32m     11\u001b[0m \u001b[0mprint\u001b[0m \u001b[1;33m(\u001b[0m\u001b[0md\u001b[0m\u001b[1;33m)\u001b[0m\u001b[1;33m\u001b[0m\u001b[0m\n",
      "\u001b[1;31mAttributeError\u001b[0m: 'collections.defaultdict' object has no attribute 'append'"
     ]
    }
   ],
   "source": [
    "from collections import defaultdict\n",
    "ss = \"\"\"I figured it out\n",
    "I figured it out from black and white\n",
    "Seconds and hours\n",
    "Maybe they had to take some time\"\"\"\n",
    "\n",
    "words = ss.split()\n",
    "d = defaultdict(list)\n",
    "for w in words:\n",
    "    d.append(w)\n",
    "print (w)"
   ]
  },
  {
   "cell_type": "code",
   "execution_count": 27,
   "metadata": {},
   "outputs": [
    {
     "name": "stdout",
     "output_type": "stream",
     "text": [
      "defaultdict(<class 'list'>, {'apple': [3], 'tomato': [7], 'spy': [4]})\n"
     ]
    }
   ],
   "source": [
    "a = [('apple', 3), ('tomato', 7), ('spy', 4)]\n",
    "n = defaultdict(list)\n",
    "for i,j in a:\n",
    "    n[i].append(j)\n",
    "    \n",
    "print(n)    "
   ]
  },
  {
   "cell_type": "code",
   "execution_count": 31,
   "metadata": {},
   "outputs": [
    {
     "name": "stdout",
     "output_type": "stream",
     "text": [
      "{'I': 2, 'figured': 2, 'it': 2, 'out': 2, 'from': 1, 'black': 1, 'and': 2, 'white': 1, 'Seconds': 1, 'hours': 1, 'Maybe': 1, 'they': 1, 'had': 1, 'to': 1, 'take': 1, 'some': 1, 'time': 1}\n"
     ]
    }
   ],
   "source": [
    "ss = \"\"\"I figured it out\n",
    "I figured it out from black and white\n",
    "Seconds and hours\n",
    "Maybe they had to take some time\"\"\"\n",
    "\n",
    "words = ss.split()\n",
    "d = {}\n",
    "for w in ss.split():\n",
    "    d[w] = d.get(w, 0) + 1\n",
    "print (d)"
   ]
  },
  {
   "cell_type": "code",
   "execution_count": 32,
   "metadata": {},
   "outputs": [
    {
     "name": "stdout",
     "output_type": "stream",
     "text": [
      "{'I': 2, 'figured': 2, 'it': 2, 'out': 2, 'from': 1, 'black': 1, 'and': 2, 'white': 1, 'Seconds': 1, 'hours': 1, 'Maybe': 1, 'they': 1, 'had': 1, 'to': 1, 'take': 1, 'some': 1, 'time': 1}\n"
     ]
    }
   ],
   "source": [
    "ss = \"\"\"I figured it out\n",
    "I figured it out from black and white\n",
    "Seconds and hours\n",
    "Maybe they had to take some time\"\"\"\n",
    "\n",
    "words = ss.split()\n",
    "\n",
    "d = {}\n",
    "\n",
    "for w in words:\n",
    "    d[w] = d.get(w, 0) + 1\n",
    " \n",
    "print(d)\n",
    "\n",
    "    "
   ]
  },
  {
   "cell_type": "code",
   "execution_count": 34,
   "metadata": {},
   "outputs": [
    {
     "name": "stdout",
     "output_type": "stream",
     "text": [
      "{'I': 2, 'figured': 2, 'it': 2, 'out': 2, 'from': 1, 'black': 1, 'and': 2, 'white': 1, 'Seconds': 1, 'hours': 1, 'Maybe': 1, 'they': 1, 'had': 1, 'to': 1, 'take': 1, 'some': 1, 'time': 1}\n"
     ]
    }
   ],
   "source": [
    "ss = \"\"\"I figured it out\n",
    "I figured it out from black and white\n",
    "Seconds and hours\n",
    "Maybe they had to take some time\"\"\"\n",
    "\n",
    "\n",
    "words = ss.split()\n",
    "d = {}\n",
    "\n",
    "for word in words:\n",
    "    d[word] = d.get(word, 0) + 1\n",
    "    \n",
    " \n",
    "print(d)\n"
   ]
  },
  {
   "cell_type": "code",
   "execution_count": 35,
   "metadata": {},
   "outputs": [
    {
     "name": "stdout",
     "output_type": "stream",
     "text": [
      "{'I': 2, 'figured': 2, 'it': 2, 'out': 2, 'from': 1, 'black': 1, 'and': 2, 'white': 1, 'Seconds': 1, 'hours': 1, 'Maybe': 1, 'they': 1, 'had': 1, 'to': 1, 'take': 1, 'some': 1, 'time': 1}\n"
     ]
    }
   ],
   "source": [
    "ss = \"\"\"I figured it out\n",
    "I figured it out from black and white\n",
    "Seconds and hours\n",
    "Maybe they had to take some time\"\"\"\n",
    "\n",
    "words = ss.split()\n",
    "\n",
    "d = {}\n",
    "\n",
    "for word in words:\n",
    "    d[word] = d.get(word,0) + 1\n",
    "    \n",
    "  \n",
    "print(d)"
   ]
  },
  {
   "cell_type": "code",
   "execution_count": null,
   "metadata": {
    "collapsed": true
   },
   "outputs": [],
   "source": []
  }
 ],
 "metadata": {
  "kernelspec": {
   "display_name": "Python 3",
   "language": "python",
   "name": "python3"
  },
  "language_info": {
   "codemirror_mode": {
    "name": "ipython",
    "version": 3
   },
   "file_extension": ".py",
   "mimetype": "text/x-python",
   "name": "python",
   "nbconvert_exporter": "python",
   "pygments_lexer": "ipython3",
   "version": "3.6.1"
  }
 },
 "nbformat": 4,
 "nbformat_minor": 2
}
