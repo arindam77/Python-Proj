{
 "cells": [
  {
   "cell_type": "code",
   "execution_count": 2,
   "metadata": {},
   "outputs": [
    {
     "name": "stdout",
     "output_type": "stream",
     "text": [
      "Before calling the function\n",
      "Anthony\n",
      "After calling the function\n"
     ]
    }
   ],
   "source": [
    "STEP:1\n",
    "\n",
    "def mydecorator(f):\n",
    "    def wrapper():\n",
    "        print('Before calling the function')\n",
    "        f()\n",
    "        print('After calling the function')\n",
    "      \n",
    "    return wrapper\n",
    "\n",
    "\n",
    "@mydecorator\n",
    "def printName():\n",
    "    print('Anthony')\n",
    "    \n",
    "    \n",
    "printName()   \n",
    "    "
   ]
  },
  {
   "cell_type": "code",
   "execution_count": 5,
   "metadata": {},
   "outputs": [
    {
     "name": "stdout",
     "output_type": "stream",
     "text": [
      "Before calling the function\n",
      "Janice\n",
      "After calling the function\n"
     ]
    }
   ],
   "source": [
    "#STEP 2:\n",
    "   \n",
    "\n",
    "def mydecorator(f):\n",
    "    def wrapper(*args, **kwargs):\n",
    "        print('Before calling the function')\n",
    "        f(*args, **kwargs)\n",
    "        print('After calling the function')\n",
    "      \n",
    "    return wrapper\n",
    "\n",
    "\n",
    "@mydecorator\n",
    "def printName(name):\n",
    "    print(name)\n",
    "    \n",
    "    \n",
    "printName('Janice')   \n",
    "\n",
    "    \n",
    "    "
   ]
  },
  {
   "cell_type": "code",
   "execution_count": 10,
   "metadata": {},
   "outputs": [
    {
     "name": "stdout",
     "output_type": "stream",
     "text": [
      "The message is: Heyy\n",
      "Before calling the function\n",
      "Janice\n",
      "After calling the function\n"
     ]
    }
   ],
   "source": [
    "#STEP 3:\n",
    "\n",
    "def mydecorator(msg):\n",
    "    def decorated(f):\n",
    "        def wrapper(*args, **kwargs):\n",
    "            print('The message is:', msg)\n",
    "            print('Before calling the function')\n",
    "            f(*args, **kwargs)\n",
    "            print('After calling the function')\n",
    "      \n",
    "        return wrapper\n",
    "    \n",
    "    \n",
    "    return decorated\n",
    "\n",
    "\n",
    "@mydecorator(msg='Heyy')\n",
    "def printName(name):\n",
    "    print(name)\n",
    "    \n",
    "    \n",
    "printName('Janice') \n"
   ]
  },
  {
   "cell_type": "code",
   "execution_count": 2,
   "metadata": {},
   "outputs": [
    {
     "name": "stdout",
     "output_type": "stream",
     "text": [
      "First function\n",
      "Anthony\n",
      "Second function\n"
     ]
    }
   ],
   "source": [
    "def my_decorator(f):\n",
    "    def wrapper():\n",
    "        print(\"First function\")\n",
    "        f()\n",
    "        print(\"Second function\")\n",
    "      \n",
    "    return wrapper\n",
    "\n",
    "\n",
    "@my_decorator\n",
    "def printName():\n",
    "    print(\"Anthony\")\n",
    "    \n",
    "    \n",
    "  \n",
    "printName()"
   ]
  },
  {
   "cell_type": "code",
   "execution_count": null,
   "metadata": {
    "collapsed": true
   },
   "outputs": [],
   "source": [
    "def printname()"
   ]
  }
 ],
 "metadata": {
  "kernelspec": {
   "display_name": "Python 3",
   "language": "python",
   "name": "python3"
  },
  "language_info": {
   "codemirror_mode": {
    "name": "ipython",
    "version": 3
   },
   "file_extension": ".py",
   "mimetype": "text/x-python",
   "name": "python",
   "nbconvert_exporter": "python",
   "pygments_lexer": "ipython3",
   "version": "3.6.1"
  }
 },
 "nbformat": 4,
 "nbformat_minor": 2
}
